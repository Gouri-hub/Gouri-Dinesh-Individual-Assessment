{
 "cells": [
  {
   "cell_type": "markdown",
   "metadata": {},
   "source": [
    "# Data-Driven Insights into Heart Disease Predictions: Analysing cardiovascular diseases"
   ]
  },
  {
   "cell_type": "markdown",
   "metadata": {},
   "source": [
    "| Candidate number                  |\n",
    "| ------------------------------------ |\n",
    "| 2509897 |"
   ]
  },
  {
   "cell_type": "markdown",
   "metadata": {},
   "source": [
    "## Project summary"
   ]
  },
  {
   "cell_type": "markdown",
   "metadata": {},
   "source": [
    "This project focuses on using data analytics to address the main challenges in healthcare,specifically predicting heart disease risk.The aim of this project is to uncover patterns and relationships that can inform early detection and prevention policies.By applying statistical and machine learning techniques,this analysis aims to convey actionable insights,improving decision making in medical practice.This study of data highlights the transformative potential of data driven approaches in enhancing healthcare outcomes and promoting evidence relied strategies."
   ]
  },
  {
   "cell_type": "markdown",
   "metadata": {},
   "source": [
    "## Generative AI"
   ]
  },
  {
   "cell_type": "markdown",
   "metadata": {},
   "source": [
    "In this assessment, I used artificial intelligence tools to assist with coding by providing guidance on syntax, generating visualizations, and supporting data analysis, ensuring originality as all outputs were adapted and tailored to meet the specific requirements of the project without plagiarism."
   ]
  },
  {
   "cell_type": "markdown",
   "metadata": {},
   "source": [
    "## Introduction"
   ]
  },
  {
   "cell_type": "markdown",
   "metadata": {},
   "source": [
    "Healthcare analytics dramatically transfigures the way medical professionals predict,prevent,and manage diseases.The project mainly focuses on leveraging data driven techniques to forecast the danger of heart disease which is a leading cause of morbidity and mortality worldwide.Analysing the detail and broad dataset contains patient attributes such as age,gender,cholesterol levels,chest pain types,and exercises-induced angina,this project reveal the patterns and relationship that can improve early diagonosis and strategies for intervention.\n",
    "The absolute aim of this project is to build a predictive model that helps in accurately identifying individuals at risk of heart disease.By the assistance of this model,healthcare providers can make informed decisions,enabling proactive measures that will reduce the risk of mortality and healthcare costs.\n",
    "\n",
    "The main objectives of this project are:\n",
    "\n",
    " 1. Create a reliable and accurate machine learning model to identify individuals at risk of heart disease.\n",
    " 2. Perform data preprocessing to ensure a tidy and authentic data\n",
    " 3. Explore the dataset to understand and identify key elements causes the risk of heart disease.\n",
    " 4. Use performance metrics such as accuracy, precision, recall, and AUC-ROC to validate the predictive model's reliability.\n",
    " 5. provide actionable insights and recommendationson the basis of the analysis by highlighting the strategies for prevention and improved       patient care.\n"
   ]
  },
  {
   "cell_type": "markdown",
   "metadata": {},
   "source": [
    "## Setup"
   ]
  },
  {
   "cell_type": "markdown",
   "metadata": {},
   "source": [
    "Link to access the notebook and all the data files: https://github.com/Gouri-hub/Gouri-Dinesh-Individual-Assessment"
   ]
  },
  {
   "cell_type": "markdown",
   "metadata": {},
   "source": [
    "### Import necessary libraries"
   ]
  },
  {
   "cell_type": "code",
   "execution_count": 13,
   "metadata": {},
   "outputs": [],
   "source": [
    "import pandas as pd\n",
    "import matplotlib.pyplot as plt\n",
    "import seaborn as sns"
   ]
  },
  {
   "cell_type": "markdown",
   "metadata": {},
   "source": [
    "### Load data"
   ]
  },
  {
   "cell_type": "code",
   "execution_count": 15,
   "metadata": {},
   "outputs": [],
   "source": [
    "data_source = \"heart.csv\"\n",
    "df = pd.read_csv(data_source)"
   ]
  },
  {
   "cell_type": "markdown",
   "metadata": {},
   "source": [
    "### Convert into DataFrame"
   ]
  },
  {
   "cell_type": "code",
   "execution_count": 17,
   "metadata": {},
   "outputs": [],
   "source": [
    "\n",
    "df['HeartDisease'] = df['HeartDisease'].astype('category')"
   ]
  },
  {
   "cell_type": "markdown",
   "metadata": {},
   "source": [
    "Display the first few rows and basic information about the DataFrame `df` you have created from `data_source`."
   ]
  },
  {
   "cell_type": "code",
   "execution_count": 19,
   "metadata": {},
   "outputs": [
    {
     "name": "stdout",
     "output_type": "stream",
     "text": [
      "   Age Sex ChestPainType  RestingBP  Cholesterol  FastingBS RestingECG  MaxHR  \\\n",
      "0   40   M           ATA        140          289          0     Normal    172   \n",
      "1   49   F           NAP        160          180          0     Normal    156   \n",
      "2   37   M           ATA        130          283          0         ST     98   \n",
      "3   48   F           ASY        138          214          0     Normal    108   \n",
      "4   54   M           NAP        150          195          0     Normal    122   \n",
      "\n",
      "  ExerciseAngina  Oldpeak ST_Slope HeartDisease  \n",
      "0              N      0.0       Up            0  \n",
      "1              N      1.0     Flat            1  \n",
      "2              N      0.0       Up            0  \n",
      "3              Y      1.5     Flat            1  \n",
      "4              N      0.0       Up            0  \n"
     ]
    }
   ],
   "source": [
    "print(df.head())"
   ]
  },
  {
   "cell_type": "code",
   "execution_count": 20,
   "metadata": {},
   "outputs": [
    {
     "name": "stdout",
     "output_type": "stream",
     "text": [
      "<class 'pandas.core.frame.DataFrame'>\n",
      "RangeIndex: 918 entries, 0 to 917\n",
      "Data columns (total 12 columns):\n",
      " #   Column          Non-Null Count  Dtype   \n",
      "---  ------          --------------  -----   \n",
      " 0   Age             918 non-null    int64   \n",
      " 1   Sex             918 non-null    object  \n",
      " 2   ChestPainType   918 non-null    object  \n",
      " 3   RestingBP       918 non-null    int64   \n",
      " 4   Cholesterol     918 non-null    int64   \n",
      " 5   FastingBS       918 non-null    int64   \n",
      " 6   RestingECG      918 non-null    object  \n",
      " 7   MaxHR           918 non-null    int64   \n",
      " 8   ExerciseAngina  918 non-null    object  \n",
      " 9   Oldpeak         918 non-null    float64 \n",
      " 10  ST_Slope        918 non-null    object  \n",
      " 11  HeartDisease    918 non-null    category\n",
      "dtypes: category(1), float64(1), int64(5), object(5)\n",
      "memory usage: 80.0+ KB\n",
      "None\n"
     ]
    }
   ],
   "source": [
    "print(df.info())"
   ]
  },
  {
   "cell_type": "markdown",
   "metadata": {},
   "source": [
    "## Data management"
   ]
  },
  {
   "cell_type": "markdown",
   "metadata": {},
   "source": [
    "### Data cleaning"
   ]
  },
  {
   "cell_type": "code",
   "execution_count": 23,
   "metadata": {},
   "outputs": [
    {
     "name": "stdout",
     "output_type": "stream",
     "text": [
      "Missing values in each column before cleaning:\n",
      "Age               0\n",
      "Sex               0\n",
      "ChestPainType     0\n",
      "RestingBP         0\n",
      "Cholesterol       0\n",
      "FastingBS         0\n",
      "RestingECG        0\n",
      "MaxHR             0\n",
      "ExerciseAngina    0\n",
      "Oldpeak           0\n",
      "ST_Slope          0\n",
      "HeartDisease      0\n",
      "dtype: int64\n"
     ]
    }
   ],
   "source": [
    "# TODO: Handle missing values\n",
    "print(\"Missing values in each column before cleaning:\")\n",
    "print(df.isnull().sum())\n",
    "\n",
    "# Replace missing values in numeric columns with the median\n",
    "for col in df.select_dtypes(include=['int64', 'float64']).columns:\n",
    "    if df[col].isnull().sum() > 0:\n",
    "        df[col].fillna(df[col].median(), inplace=True)\n",
    "\n",
    "# Replace missing values in categorical columns with the most frequent value\n",
    "for col in df.select_dtypes(include=['object', 'category']).columns:\n",
    "    if df[col].isnull().sum() > 0:\n",
    "        df[col].fillna(df[col].mode()[0], inplace=True)"
   ]
  },
  {
   "cell_type": "code",
   "execution_count": 24,
   "metadata": {},
   "outputs": [],
   "source": [
    "# TODO: Convert data types where necessary\n",
    "# Your code here\n",
    "df['HeartDisease'] = df['HeartDisease'].astype('category')"
   ]
  },
  {
   "cell_type": "code",
   "execution_count": 25,
   "metadata": {},
   "outputs": [
    {
     "name": "stdout",
     "output_type": "stream",
     "text": [
      "\n",
      "Number of duplicate rows: 0\n"
     ]
    }
   ],
   "source": [
    "# TODO: Remove any duplicate entries\n",
    "duplicates = df.duplicated().sum()\n",
    "print(f\"\\nNumber of duplicate rows: {duplicates}\")\n",
    "\n",
    "# Remove duplicates\n",
    "if duplicates > 0:\n",
    "    df = df.drop_duplicates()"
   ]
  },
  {
   "cell_type": "code",
   "execution_count": 26,
   "metadata": {},
   "outputs": [],
   "source": [
    "# TODO: Anything else?\n",
    "#Remove unnecessary columns\n",
    "#Drop columns with too many missing values (e.g., >50% missing)\n",
    "threshold = 0.5  # 50% threshold\n",
    "columns_to_drop = [col for col in df.columns if df[col].isnull().mean() > threshold]\n",
    "df.drop(columns=columns_to_drop, axis=1, inplace=True)"
   ]
  },
  {
   "cell_type": "markdown",
   "metadata": {},
   "source": [
    "### Data wrangling"
   ]
  },
  {
   "cell_type": "code",
   "execution_count": 28,
   "metadata": {},
   "outputs": [],
   "source": [
    "# TODO: Create at least one new column\n",
    "df['Age_Group'] = pd.cut(df['Age'], bins=[0, 30, 50, 70, 100],labels=['Young', 'Middle-Aged', 'Senior', 'Elderly'])"
   ]
  },
  {
   "cell_type": "code",
   "execution_count": 29,
   "metadata": {},
   "outputs": [],
   "source": [
    "# TODO: Combine at least two columns\n",
    "df['Sex_ChestPain'] = df['Sex'] + \"_\" + df['ChestPainType']"
   ]
  },
  {
   "cell_type": "code",
   "execution_count": 30,
   "metadata": {},
   "outputs": [],
   "source": [
    "# TODO: Extract data from multiple columns to create a new column\n",
    "df['Age_Group'] = pd.cut(df['Age'], bins=[0, 30, 50, 70, 100],labels=['Young', 'Middle-Aged', 'Senior', 'Elderly'])"
   ]
  },
  {
   "cell_type": "code",
   "execution_count": 31,
   "metadata": {},
   "outputs": [
    {
     "name": "stdout",
     "output_type": "stream",
     "text": [
      "\n",
      "Data after wrangling:\n",
      "   Age Sex ChestPainType  RestingBP  Cholesterol  FastingBS RestingECG  MaxHR  \\\n",
      "0   40   M           ATA        140          289          0     Normal    172   \n",
      "1   49   F           NAP        160          180          0     Normal    156   \n",
      "2   37   M           ATA        130          283          0         ST     98   \n",
      "3   48   F           ASY        138          214          0     Normal    108   \n",
      "4   54   M           NAP        150          195          0     Normal    122   \n",
      "\n",
      "  ExerciseAngina  Oldpeak ST_Slope HeartDisease    Age_Group Sex_ChestPain  \n",
      "0              N      0.0       Up            0  Middle-Aged         M_ATA  \n",
      "1              N      1.0     Flat            1  Middle-Aged         F_NAP  \n",
      "2              N      0.0       Up            0  Middle-Aged         M_ATA  \n",
      "3              Y      1.5     Flat            1  Middle-Aged         F_ASY  \n",
      "4              N      0.0       Up            0       Senior         M_NAP  \n"
     ]
    }
   ],
   "source": [
    "# TODO: Anything else?\n",
    "# Display modified data\n",
    "print(\"\\nData after wrangling:\")\n",
    "print(df.head())"
   ]
  },
  {
   "cell_type": "markdown",
   "metadata": {},
   "source": [
    "## Data analysis"
   ]
  },
  {
   "cell_type": "code",
   "execution_count": 33,
   "metadata": {},
   "outputs": [
    {
     "name": "stdout",
     "output_type": "stream",
     "text": [
      "\n",
      "Summary statistics:\n",
      "              Age   RestingBP  Cholesterol   FastingBS       MaxHR     Oldpeak\n",
      "count  918.000000  918.000000   918.000000  918.000000  918.000000  918.000000\n",
      "mean    53.510893  132.396514   198.799564    0.233115  136.809368    0.887364\n",
      "std      9.432617   18.514154   109.384145    0.423046   25.460334    1.066570\n",
      "min     28.000000    0.000000     0.000000    0.000000   60.000000   -2.600000\n",
      "25%     47.000000  120.000000   173.250000    0.000000  120.000000    0.000000\n",
      "50%     54.000000  130.000000   223.000000    0.000000  138.000000    0.600000\n",
      "75%     60.000000  140.000000   267.000000    0.000000  156.000000    1.500000\n",
      "max     77.000000  200.000000   603.000000    1.000000  202.000000    6.200000\n",
      "\n",
      "Correlation matrix (numeric columns):\n",
      "                  Age  RestingBP  Cholesterol  FastingBS     MaxHR   Oldpeak\n",
      "Age          1.000000   0.254399    -0.095282   0.198039 -0.382045  0.258612\n",
      "RestingBP    0.254399   1.000000     0.100893   0.070193 -0.112135  0.164803\n",
      "Cholesterol -0.095282   0.100893     1.000000  -0.260974  0.235792  0.050148\n",
      "FastingBS    0.198039   0.070193    -0.260974   1.000000 -0.131438  0.052698\n",
      "MaxHR       -0.382045  -0.112135     0.235792  -0.131438  1.000000 -0.160691\n",
      "Oldpeak      0.258612   0.164803     0.050148   0.052698 -0.160691  1.000000\n",
      "\n",
      "Correlation matrix:\n"
     ]
    }
   ],
   "source": [
    "# TODO: Conduct data analysis\n",
    "print(\"\\nSummary statistics:\")\n",
    "print(df.describe())\n",
    "\n",
    "# Correlation matrix (numerical columns)\n",
    "# Select only numeric columns\n",
    "numeric_columns = df.select_dtypes(include=['number'])\n",
    "\n",
    "# Check if there are any numeric columns\n",
    "if numeric_columns.empty:\n",
    "    print(\"\\nNo numeric columns found for correlation matrix.\")\n",
    "else:\n",
    "    # Step 3: Compute and print the correlation matrix\n",
    "    print(\"\\nCorrelation matrix (numeric columns):\")\n",
    "    correlation_matrix = numeric_columns.corr()\n",
    "    print(correlation_matrix)\n",
    "\n",
    "print(\"\\nCorrelation matrix:\")\n"
   ]
  },
  {
   "cell_type": "markdown",
   "metadata": {},
   "source": [
    "## Data visualisation"
   ]
  },
  {
   "cell_type": "code",
   "execution_count": 36,
   "metadata": {},
   "outputs": [
    {
     "data": {
      "image/png": "[encoded data removed]",
      "text/plain": [
       "<Figure size 1000x600 with 1 Axes>"
      ]
     },
     "metadata": {},
     "output_type": "display_data"
    }
   ],
   "source": [
    "# Visualization 1: Distribution of cholesterol levels\n",
    "plt.figure(figsize=(10, 6))\n",
    "sns.histplot(df['Cholesterol'], kde=True, bins=30, color='blue')\n",
    "plt.title('Cholesterol Distribution')\n",
    "plt.xlabel('Cholesterol')\n",
    "plt.ylabel('Frequency')\n",
    "vis1_path=r\"C:\\Users\\Afsal\\Downloads\\Gouri\\cholestrol_distribution.png\"\n",
    "plt.show()"
   ]
  },
  {
   "cell_type": "markdown",
   "metadata": {},
   "source": [
    "This visualisation represents the distribution of cholesterollevels in the dataset using a histogram with a Kernel Density Estimate(KDE) overlay.The X-axis indicates cholestrol levels,measured in mg/dL and the Y-axis represents the number of individuals falling into each cholesterol range.The KDE curve provides a smooth estimate of the data distribution,highlighting the probability desnsity across cholestrol levels. "
   ]
  },
  {
   "cell_type": "code",
   "execution_count": 37,
   "metadata": {},
   "outputs": [
    {
     "data": {
      "image/png": "[encoded data removed]",
      "text/plain": [
       "<Figure size 1000x600 with 1 Axes>"
      ]
     },
     "metadata": {},
     "output_type": "display_data"
    }
   ],
   "source": [
    "# Visualization 2: Heart Disease by Age Group\n",
    "plt.figure(figsize=(10, 6))\n",
    "sns.countplot(x='Age_Group', hue='HeartDisease', data=df)\n",
    "plt.title('Heart Disease Distribution by Age Group')\n",
    "plt.xlabel('Age Group')\n",
    "plt.ylabel('Count')\n",
    "vis2_path=r\"C:\\Users\\Afsal\\Downloads\\Gouri\\heart_disease_by_age_group.png\"\n",
    "plt.show()"
   ]
  },
  {
   "cell_type": "markdown",
   "metadata": {},
   "source": [
    "This visualization highlights heart disease prevalence across age groups. It shows which age groups have higher counts of individuals with heart disease, emphasizing age as a potential risk factor. Older groups likely have a higher prevalence, guiding targeted healthcare interventions.\n",
    "\n",
    "\n",
    "\n",
    "\n",
    "\n",
    "\n"
   ]
  },
  {
   "cell_type": "markdown",
   "metadata": {},
   "source": [
    "## Data export"
   ]
  },
  {
   "cell_type": "code",
   "execution_count": 39,
   "metadata": {},
   "outputs": [
    {
     "name": "stdout",
     "output_type": "stream",
     "text": [
      "Cleaned data exported successfully to: C:\\Users\\Afsal\\Downloads\\Gouri\\cleaned_heart.csv\n"
     ]
    }
   ],
   "source": [
    "# TODO: Save the cleaned and wrangled DataFrame to a new CSV file\n",
    "cleaned_data_path = r\"C:\\Users\\Afsal\\Downloads\\Gouri\\cleaned_heart.csv\"\n",
    "df.to_csv(cleaned_data_path, index=False)\n",
    "print(f\"Cleaned data exported successfully to: {cleaned_data_path}\")"
   ]
  },
  {
   "cell_type": "code",
   "execution_count": 40,
   "metadata": {},
   "outputs": [
    {
     "name": "stdout",
     "output_type": "stream",
     "text": [
      "\n",
      "Exported CSV file successfully loaded from: C:\\Users\\Afsal\\Downloads\\Gouri\\cleaned_heart.csv\n",
      "\n",
      "Loaded DataFrame Info:\n",
      "<class 'pandas.core.frame.DataFrame'>\n",
      "RangeIndex: 918 entries, 0 to 917\n",
      "Data columns (total 14 columns):\n",
      " #   Column          Non-Null Count  Dtype  \n",
      "---  ------          --------------  -----  \n",
      " 0   Age             918 non-null    int64  \n",
      " 1   Sex             918 non-null    object \n",
      " 2   ChestPainType   918 non-null    object \n",
      " 3   RestingBP       918 non-null    int64  \n",
      " 4   Cholesterol     918 non-null    int64  \n",
      " 5   FastingBS       918 non-null    int64  \n",
      " 6   RestingECG      918 non-null    object \n",
      " 7   MaxHR           918 non-null    int64  \n",
      " 8   ExerciseAngina  918 non-null    object \n",
      " 9   Oldpeak         918 non-null    float64\n",
      " 10  ST_Slope        918 non-null    object \n",
      " 11  HeartDisease    918 non-null    int64  \n",
      " 12  Age_Group       918 non-null    object \n",
      " 13  Sex_ChestPain   918 non-null    object \n",
      "dtypes: float64(1), int64(6), object(7)\n",
      "memory usage: 100.5+ KB\n",
      "None\n",
      "\n",
      "First few rows of the loaded DataFrame:\n",
      "   Age Sex ChestPainType  RestingBP  Cholesterol  FastingBS RestingECG  MaxHR  \\\n",
      "0   40   M           ATA        140          289          0     Normal    172   \n",
      "1   49   F           NAP        160          180          0     Normal    156   \n",
      "2   37   M           ATA        130          283          0         ST     98   \n",
      "3   48   F           ASY        138          214          0     Normal    108   \n",
      "4   54   M           NAP        150          195          0     Normal    122   \n",
      "\n",
      "  ExerciseAngina  Oldpeak ST_Slope  HeartDisease    Age_Group Sex_ChestPain  \n",
      "0              N      0.0       Up             0  Middle-Aged         M_ATA  \n",
      "1              N      1.0     Flat             1  Middle-Aged         F_NAP  \n",
      "2              N      0.0       Up             0  Middle-Aged         M_ATA  \n",
      "3              Y      1.5     Flat             1  Middle-Aged         F_ASY  \n",
      "4              N      0.0       Up             0       Senior         M_NAP  \n"
     ]
    }
   ],
   "source": [
    "# TODO: Ensure that you can successfully load the exported CSV file\n",
    "exported_csv_path = cleaned_data_path\n",
    "try:\n",
    "    loaded_df = pd.read_csv(exported_csv_path)\n",
    "    print(f\"\\nExported CSV file successfully loaded from: {exported_csv_path}\")\n",
    "    \n",
    "    # Step 3: Display basic information about the loaded DataFrame\n",
    "    print(\"\\nLoaded DataFrame Info:\")\n",
    "    print(loaded_df.info())\n",
    "    \n",
    "    print(\"\\nFirst few rows of the loaded DataFrame:\")\n",
    "    print(loaded_df.head())\n",
    "    \n",
    "except FileNotFoundError:\n",
    "    print(f\"\\nError: The file at {exported_csv_path} was not found.\")\n",
    "except Exception as e:\n",
    "    print(f\"\\nAn error occurred while loading the CSV file: {e}\")\n"
   ]
  },
  {
   "cell_type": "code",
   "execution_count": 41,
   "metadata": {},
   "outputs": [
    {
     "data": {
      "text/plain": [
       "<Figure size 640x480 with 0 Axes>"
      ]
     },
     "metadata": {},
     "output_type": "display_data"
    }
   ],
   "source": [
    "# TODO: Export visualizations as image files\n",
    "plt.savefig(vis1_path)\n",
    "plt.savefig(vis2_path)"
   ]
  },
  {
   "cell_type": "markdown",
   "metadata": {},
   "source": [
    "## Conclusion"
   ]
  },
  {
   "cell_type": "markdown",
   "metadata": {},
   "source": [
    "This study provided valuable insights into heart disease risk factors,emphasizing the distribution of cholesterol levels and the prevalence of heart disease across age groups.These findings underscore the potential of data analytics in addressing significant public health challenges,particularly in identifying and mitigating cardiovascular risks.By analysing cholesterol ranges and outliers,which are critical for risk stratification.Similarly,the age-group analysis revealed the rising prevalence of heart disease with age as a major risk.\n",
    "\n",
    "Despite the strengths of this analysis,several limitations should be noted.First the dataset may lack diversity in terms of demographic representation ,such as geographic or ethnic diversity,which could impact the generalizability of the findings.Second,the study focused on cholesterol and age,potentially overlooking other important risks factors such as family history,lifestyle choices,and co-existing medical conditions.Third,the data quality could be a concern as issues like missing values,measurementt errors,or inconsistenciesmight skew the results.Lastly,the reliance on visualisations and statistical tools,without advanced predictive modeling,limits the depth of actionable insights.\n",
    "\n",
    "The insights from this analysis carry several practicall implications for healthcare managers and policymakers.For healthcare providers,the findings can inform the development of targeted screening and intervention programs.Identifying high-risk groups,such as individuals with elevated cholesterol levels or those in older age brackets,allows for efficient allocation of resources to prevention and treatment efforts.Additionally,the results support the implementation of health education campaigns focused on lifestyle modifications,including promoting healthy diets,physical activities and routine health check-ups.\n",
    "For insurance companies,the insights can guide the design of policies that incentivize preventive care and reward healthy behaviours.Employers,too,can benefit by integrating health analytics into workplace wellness programs,which can improve employee health outcomes and reduce absenteeism.\n",
    "\n",
    "To enhance the robustness and relevance of future analysis,several improvements can be made.First,expanding the dataset to include a more diverse population would ensure broader applicability of the findings.Incorporating additional variables,such as smoking status,alcohol consumption,exercise habits, and genetic markers,would provide a more comprehensive view of heart disease risk factors.Second,advanced analytics techniques,such as machine learning models,can be employed to predict heart disease risk more accurately.These models can also identify complex interactions between variables that may not be evident in simpler analyses.Third,longitudinal data collection and analysis can shed light on how risk factors evolve over time and how early interventions impact outcomes.Lastly,collaboration with medical professionals and public health experts can help transalate analytical findings into practical,evidence-based strategies for improving population health.\n",
    "\n",
    "Insights gained here provide a foundation for targeted interventions and resource optimization to improve public health outcomes.\n",
    "\n"
   ]
  },
  {
   "cell_type": "markdown",
   "metadata": {},
   "source": [
    "## References"
   ]
  },
  {
   "cell_type": "markdown",
   "metadata": {},
   "source": [
    "1. American Heart Association (2023). Understanding Cholesterol and Heart Disease. Retrieved from https://www.heart.org\n",
    "2. Bishop, C. M. (2006). Pattern Recognition and Machine Learning. Springer.\n",
    "3. Breiman, L. (2001). Random forests. Machine Learning, 45(1), 5–32. https://doi.org/10.1023/A:1010933404324\n",
    "4. Framingham Heart Study. (2023). Heart Disease Risk Factors. Retrieved from https://www.framinghamheartstudy.org\n",
    "5. Jupyter Project. (2023). The Jupyter Notebook Platform. Retrieved from https://jupyter.org\n",
    "\n",
    "\n",
    "   \n",
    "\n"
   ]
  },
  {
   "cell_type": "code",
   "execution_count": null,
   "metadata": {},
   "outputs": [],
   "source": []
  }
 ],
 "metadata": {
  "kernelspec": {
   "display_name": "Python 3 (ipykernel)",
   "language": "python",
   "name": "python3"
  },
  "language_info": {
   "codemirror_mode": {
    "name": "ipython",
    "version": 3
   },
   "file_extension": ".py",
   "mimetype": "text/x-python",
   "name": "python",
   "nbconvert_exporter": "python",
   "pygments_lexer": "ipython3",
   "version": "3.12.4"
  }
 },
 "nbformat": 4,
 "nbformat_minor": 4
}
